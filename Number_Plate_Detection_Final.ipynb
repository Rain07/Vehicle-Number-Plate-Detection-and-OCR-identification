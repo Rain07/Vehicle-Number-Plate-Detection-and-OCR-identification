{
  "nbformat": 4,
  "nbformat_minor": 0,
  "metadata": {
    "kernelspec": {
      "name": "python3",
      "display_name": "Python 3"
    },
    "language_info": {
      "codemirror_mode": {
        "name": "ipython",
        "version": 3
      },
      "file_extension": ".py",
      "mimetype": "text/x-python",
      "name": "python",
      "nbconvert_exporter": "python",
      "pygments_lexer": "ipython3",
      "version": "3.6.9"
    },
    "colab": {
      "name": "Number Plate Detection Final.ipynb",
      "provenance": [],
      "collapsed_sections": [],
      "include_colab_link": true
    },
    "accelerator": "GPU"
  },
  "cells": [
    {
      "cell_type": "markdown",
      "metadata": {
        "id": "view-in-github",
        "colab_type": "text"
      },
      "source": [
        "<a href=\"https://colab.research.google.com/github/ShanuDey/Vehicle-Number-Plate-Detection-and-OCR-identification/blob/master/Number_Plate_Detection_Final.ipynb\" target=\"_parent\"><img src=\"https://colab.research.google.com/assets/colab-badge.svg\" alt=\"Open In Colab\"/></a>"
      ]
    },
    {
      "cell_type": "code",
      "metadata": {
        "id": "P_yW85vQmUQ2",
        "colab_type": "code",
        "colab": {}
      },
      "source": [
        "# clean\n",
        "#!rm -rf *\n",
        "# log\n",
        "#!cat /var/log/colab-jupyter.log"
      ],
      "execution_count": 0,
      "outputs": []
    },
    {
      "cell_type": "markdown",
      "metadata": {
        "id": "Rs_ZVQQcmpBl",
        "colab_type": "text"
      },
      "source": [
        "# Setting up Environment"
      ]
    },
    {
      "cell_type": "code",
      "metadata": {
        "id": "npbZ_GeDigFZ",
        "colab_type": "code",
        "outputId": "e06fee27-7043-4c2a-c321-5844e7f337f3",
        "colab": {
          "base_uri": "https://localhost:8080/",
          "height": 343
        }
      },
      "source": [
        "# clone darkflow repo\n",
        "!git clone https://github.com/thtrieu/darkflow.git temp\n",
        "!cd temp && mv * ../\n",
        "!rm -rf temp\n",
        "!mkdir -p weights\n",
        "# downloading weights\n",
        "!wget https://pjreddie.com/media/files/yolov2.weights -o weights/yolov2.weights\n",
        "# downloading custom cfg\n",
        "!wget https://raw.githubusercontent.com/ShanuDey/Custom-yolo-model/master/yolov2-custom.cfg -o cfg/yolov2-custom.cfg\n",
        "!wget https://raw.githubusercontent.com/ShanuDey/Custom-yolo-model/master/labels.txt\n",
        "!ls"
      ],
      "execution_count": 0,
      "outputs": [
        {
          "output_type": "stream",
          "text": [
            "Cloning into 'temp'...\n",
            "remote: Enumerating objects: 2706, done.\u001b[K\n",
            "remote: Total 2706 (delta 0), reused 0 (delta 0), pack-reused 2706\n",
            "Receiving objects: 100% (2706/2706), 32.98 MiB | 9.67 MiB/s, done.\n",
            "Resolving deltas: 100% (1760/1760), done.\n",
            "--2019-09-21 15:28:56--  https://raw.githubusercontent.com/ShanuDey/Custom-yolo-model/master/labels.txt\n",
            "Resolving raw.githubusercontent.com (raw.githubusercontent.com)... 151.101.0.133, 151.101.64.133, 151.101.128.133, ...\n",
            "Connecting to raw.githubusercontent.com (raw.githubusercontent.com)|151.101.0.133|:443... connected.\n",
            "HTTP request sent, awaiting response... 200 OK\n",
            "Length: 13 [text/plain]\n",
            "Saving to: ‘labels.txt.1’\n",
            "\n",
            "labels.txt.1        100%[===================>]      13  --.-KB/s    in 0s      \n",
            "\n",
            "2019-09-21 15:28:57 (2.38 MB/s) - ‘labels.txt.1’ saved [13/13]\n",
            "\n",
            "cfg\t  flow\t\tLICENSE      sample_img  weights\n",
            "darkflow  labels.txt\tpreview.png  setup.py\t yolov2-custom.cfg\n",
            "demo.gif  labels.txt.1\tREADME.md    test\t yolov2.weights\n"
          ],
          "name": "stdout"
        }
      ]
    },
    {
      "cell_type": "code",
      "metadata": {
        "id": "PkmU24dPiiOF",
        "colab_type": "code",
        "outputId": "87d393a6-e70a-4df7-f8b4-d6ef7698e75b",
        "colab": {
          "base_uri": "https://localhost:8080/",
          "height": 946
        }
      },
      "source": [
        "#install darkflow\n",
        "#!pip install -e .\n",
        "!python3 setup.py build_ext --inplace"
      ],
      "execution_count": 0,
      "outputs": [
        {
          "output_type": "stream",
          "text": [
            "Compiling darkflow/cython_utils/nms.pyx because it changed.\n",
            "Compiling darkflow/cython_utils/cy_yolo2_findboxes.pyx because it changed.\n",
            "Compiling darkflow/cython_utils/cy_yolo_findboxes.pyx because it changed.\n",
            "[1/3] Cythonizing darkflow/cython_utils/cy_yolo2_findboxes.pyx\n",
            "/usr/local/lib/python3.6/dist-packages/Cython/Compiler/Main.py:369: FutureWarning: Cython directive 'language_level' not set, using 2 for now (Py2). This will change in a later release! File: /content/darkflow/cython_utils/cy_yolo2_findboxes.pyx\n",
            "  tree = Parsing.p_module(s, pxd, full_module_name)\n",
            "[2/3] Cythonizing darkflow/cython_utils/cy_yolo_findboxes.pyx\n",
            "/usr/local/lib/python3.6/dist-packages/Cython/Compiler/Main.py:369: FutureWarning: Cython directive 'language_level' not set, using 2 for now (Py2). This will change in a later release! File: /content/darkflow/cython_utils/cy_yolo_findboxes.pyx\n",
            "  tree = Parsing.p_module(s, pxd, full_module_name)\n",
            "[3/3] Cythonizing darkflow/cython_utils/nms.pyx\n",
            "/usr/local/lib/python3.6/dist-packages/Cython/Compiler/Main.py:369: FutureWarning: Cython directive 'language_level' not set, using 2 for now (Py2). This will change in a later release! File: /content/darkflow/cython_utils/nms.pxd\n",
            "  tree = Parsing.p_module(s, pxd, full_module_name)\n",
            "running build_ext\n",
            "building 'darkflow.cython_utils.nms' extension\n",
            "creating build\n",
            "creating build/temp.linux-x86_64-3.6\n",
            "creating build/temp.linux-x86_64-3.6/darkflow\n",
            "creating build/temp.linux-x86_64-3.6/darkflow/cython_utils\n",
            "x86_64-linux-gnu-gcc -pthread -DNDEBUG -g -fwrapv -O2 -Wall -g -fstack-protector-strong -Wformat -Werror=format-security -Wdate-time -D_FORTIFY_SOURCE=2 -fPIC -I/usr/local/lib/python3.6/dist-packages/numpy/core/include -I/usr/include/python3.6m -c darkflow/cython_utils/nms.c -o build/temp.linux-x86_64-3.6/darkflow/cython_utils/nms.o\n",
            "In file included from \u001b[01m\u001b[K/usr/local/lib/python3.6/dist-packages/numpy/core/include/numpy/ndarraytypes.h:1822:0\u001b[m\u001b[K,\n",
            "                 from \u001b[01m\u001b[K/usr/local/lib/python3.6/dist-packages/numpy/core/include/numpy/ndarrayobject.h:12\u001b[m\u001b[K,\n",
            "                 from \u001b[01m\u001b[K/usr/local/lib/python3.6/dist-packages/numpy/core/include/numpy/arrayobject.h:4\u001b[m\u001b[K,\n",
            "                 from \u001b[01m\u001b[Kdarkflow/cython_utils/nms.c:620\u001b[m\u001b[K:\n",
            "\u001b[01m\u001b[K/usr/local/lib/python3.6/dist-packages/numpy/core/include/numpy/npy_1_7_deprecated_api.h:17:2:\u001b[m\u001b[K \u001b[01;35m\u001b[Kwarning: \u001b[m\u001b[K#warning \"Using deprecated NumPy API, disable it with \" \"#define NPY_NO_DEPRECATED_API NPY_1_7_API_VERSION\" [\u001b[01;35m\u001b[K-Wcpp\u001b[m\u001b[K]\n",
            " #\u001b[01;35m\u001b[Kwarning\u001b[m\u001b[K \"Using deprecated NumPy API, disable it with \" \\\n",
            "  \u001b[01;35m\u001b[K^~~~~~~\u001b[m\u001b[K\n",
            "creating build/lib.linux-x86_64-3.6\n",
            "creating build/lib.linux-x86_64-3.6/darkflow\n",
            "creating build/lib.linux-x86_64-3.6/darkflow/cython_utils\n",
            "x86_64-linux-gnu-gcc -pthread -shared -Wl,-O1 -Wl,-Bsymbolic-functions -Wl,-Bsymbolic-functions -Wl,-z,relro -Wl,-Bsymbolic-functions -Wl,-z,relro -g -fstack-protector-strong -Wformat -Werror=format-security -Wdate-time -D_FORTIFY_SOURCE=2 build/temp.linux-x86_64-3.6/darkflow/cython_utils/nms.o -lm -o build/lib.linux-x86_64-3.6/darkflow/cython_utils/nms.cpython-36m-x86_64-linux-gnu.so\n",
            "building 'darkflow.cython_utils.cy_yolo2_findboxes' extension\n",
            "x86_64-linux-gnu-gcc -pthread -DNDEBUG -g -fwrapv -O2 -Wall -g -fstack-protector-strong -Wformat -Werror=format-security -Wdate-time -D_FORTIFY_SOURCE=2 -fPIC -I/usr/local/lib/python3.6/dist-packages/numpy/core/include -I/usr/include/python3.6m -c darkflow/cython_utils/cy_yolo2_findboxes.c -o build/temp.linux-x86_64-3.6/darkflow/cython_utils/cy_yolo2_findboxes.o\n",
            "In file included from \u001b[01m\u001b[K/usr/local/lib/python3.6/dist-packages/numpy/core/include/numpy/ndarraytypes.h:1822:0\u001b[m\u001b[K,\n",
            "                 from \u001b[01m\u001b[K/usr/local/lib/python3.6/dist-packages/numpy/core/include/numpy/ndarrayobject.h:12\u001b[m\u001b[K,\n",
            "                 from \u001b[01m\u001b[K/usr/local/lib/python3.6/dist-packages/numpy/core/include/numpy/arrayobject.h:4\u001b[m\u001b[K,\n",
            "                 from \u001b[01m\u001b[Kdarkflow/cython_utils/cy_yolo2_findboxes.c:620\u001b[m\u001b[K:\n",
            "\u001b[01m\u001b[K/usr/local/lib/python3.6/dist-packages/numpy/core/include/numpy/npy_1_7_deprecated_api.h:17:2:\u001b[m\u001b[K \u001b[01;35m\u001b[Kwarning: \u001b[m\u001b[K#warning \"Using deprecated NumPy API, disable it with \" \"#define NPY_NO_DEPRECATED_API NPY_1_7_API_VERSION\" [\u001b[01;35m\u001b[K-Wcpp\u001b[m\u001b[K]\n",
            " #\u001b[01;35m\u001b[Kwarning\u001b[m\u001b[K \"Using deprecated NumPy API, disable it with \" \\\n",
            "  \u001b[01;35m\u001b[K^~~~~~~\u001b[m\u001b[K\n",
            "x86_64-linux-gnu-gcc -pthread -shared -Wl,-O1 -Wl,-Bsymbolic-functions -Wl,-Bsymbolic-functions -Wl,-z,relro -Wl,-Bsymbolic-functions -Wl,-z,relro -g -fstack-protector-strong -Wformat -Werror=format-security -Wdate-time -D_FORTIFY_SOURCE=2 build/temp.linux-x86_64-3.6/darkflow/cython_utils/cy_yolo2_findboxes.o -lm -o build/lib.linux-x86_64-3.6/darkflow/cython_utils/cy_yolo2_findboxes.cpython-36m-x86_64-linux-gnu.so\n",
            "building 'darkflow.cython_utils.cy_yolo_findboxes' extension\n",
            "x86_64-linux-gnu-gcc -pthread -DNDEBUG -g -fwrapv -O2 -Wall -g -fstack-protector-strong -Wformat -Werror=format-security -Wdate-time -D_FORTIFY_SOURCE=2 -fPIC -I/usr/local/lib/python3.6/dist-packages/numpy/core/include -I/usr/include/python3.6m -c darkflow/cython_utils/cy_yolo_findboxes.c -o build/temp.linux-x86_64-3.6/darkflow/cython_utils/cy_yolo_findboxes.o\n",
            "In file included from \u001b[01m\u001b[K/usr/local/lib/python3.6/dist-packages/numpy/core/include/numpy/ndarraytypes.h:1822:0\u001b[m\u001b[K,\n",
            "                 from \u001b[01m\u001b[K/usr/local/lib/python3.6/dist-packages/numpy/core/include/numpy/ndarrayobject.h:12\u001b[m\u001b[K,\n",
            "                 from \u001b[01m\u001b[K/usr/local/lib/python3.6/dist-packages/numpy/core/include/numpy/arrayobject.h:4\u001b[m\u001b[K,\n",
            "                 from \u001b[01m\u001b[Kdarkflow/cython_utils/cy_yolo_findboxes.c:620\u001b[m\u001b[K:\n",
            "\u001b[01m\u001b[K/usr/local/lib/python3.6/dist-packages/numpy/core/include/numpy/npy_1_7_deprecated_api.h:17:2:\u001b[m\u001b[K \u001b[01;35m\u001b[Kwarning: \u001b[m\u001b[K#warning \"Using deprecated NumPy API, disable it with \" \"#define NPY_NO_DEPRECATED_API NPY_1_7_API_VERSION\" [\u001b[01;35m\u001b[K-Wcpp\u001b[m\u001b[K]\n",
            " #\u001b[01;35m\u001b[Kwarning\u001b[m\u001b[K \"Using deprecated NumPy API, disable it with \" \\\n",
            "  \u001b[01;35m\u001b[K^~~~~~~\u001b[m\u001b[K\n",
            "x86_64-linux-gnu-gcc -pthread -shared -Wl,-O1 -Wl,-Bsymbolic-functions -Wl,-Bsymbolic-functions -Wl,-z,relro -Wl,-Bsymbolic-functions -Wl,-z,relro -g -fstack-protector-strong -Wformat -Werror=format-security -Wdate-time -D_FORTIFY_SOURCE=2 build/temp.linux-x86_64-3.6/darkflow/cython_utils/cy_yolo_findboxes.o -lm -o build/lib.linux-x86_64-3.6/darkflow/cython_utils/cy_yolo_findboxes.cpython-36m-x86_64-linux-gnu.so\n",
            "copying build/lib.linux-x86_64-3.6/darkflow/cython_utils/nms.cpython-36m-x86_64-linux-gnu.so -> darkflow/cython_utils\n",
            "copying build/lib.linux-x86_64-3.6/darkflow/cython_utils/cy_yolo2_findboxes.cpython-36m-x86_64-linux-gnu.so -> darkflow/cython_utils\n",
            "copying build/lib.linux-x86_64-3.6/darkflow/cython_utils/cy_yolo_findboxes.cpython-36m-x86_64-linux-gnu.so -> darkflow/cython_utils\n"
          ],
          "name": "stdout"
        }
      ]
    },
    {
      "cell_type": "markdown",
      "metadata": {
        "id": "3FpKFMqAKWY0",
        "colab_type": "text"
      },
      "source": [
        "# Download Dataset\n",
        "- Data set for this project is downloaded from server\n",
        "- unzip the download .zip file to get the .json file from it"
      ]
    },
    {
      "cell_type": "code",
      "metadata": {
        "id": "MPnbgKNRKWY1",
        "colab_type": "code",
        "outputId": "83fd5602-ba86-4fe8-8221-34ddcd7708bf",
        "colab": {
          "base_uri": "https://localhost:8080/",
          "height": 240
        }
      },
      "source": [
        "#download dataset zip file\n",
        "!wget -O dataset.zip https://cc-uploads.s3.amazonaws.com/open_links/HumAIn+2019/vehicle-number-plate-detection+Datasets.zip\n",
        "\n",
        "# #unzip the downloaded zip file    \n",
        "!unzip dataset.zip    "
      ],
      "execution_count": 0,
      "outputs": [
        {
          "output_type": "stream",
          "text": [
            "--2019-09-21 15:29:23--  https://cc-uploads.s3.amazonaws.com/open_links/HumAIn+2019/vehicle-number-plate-detection+Datasets.zip\n",
            "Resolving cc-uploads.s3.amazonaws.com (cc-uploads.s3.amazonaws.com)... 52.216.108.11\n",
            "Connecting to cc-uploads.s3.amazonaws.com (cc-uploads.s3.amazonaws.com)|52.216.108.11|:443... connected.\n",
            "HTTP request sent, awaiting response... 200 OK\n",
            "Length: 20255 (20K) [application/zip]\n",
            "Saving to: ‘dataset.zip’\n",
            "\n",
            "\rdataset.zip           0%[                    ]       0  --.-KB/s               \rdataset.zip         100%[===================>]  19.78K   108KB/s    in 0.2s    \n",
            "\n",
            "2019-09-21 15:29:24 (108 KB/s) - ‘dataset.zip’ saved [20255/20255]\n",
            "\n",
            "Archive:  dataset.zip\n",
            "  inflating: Indian_Number_plates.json  \n"
          ],
          "name": "stdout"
        }
      ]
    },
    {
      "cell_type": "markdown",
      "metadata": {
        "id": "AX5l0r3xKWYu",
        "colab_type": "text"
      },
      "source": [
        "# Import Libraries\n",
        "- cv2 is opencv library which stands for open source computer vision. Opecv is a collection os algorithms which are used for computer vision.\n",
        "- numpy is stands for Numerical Python. It is useful library for scitific calcualtion in python. It has multidimentional array object and lots of usefull methods for calculations.\n",
        "- matplotlib.pyplot is used for ploting images."
      ]
    },
    {
      "cell_type": "code",
      "metadata": {
        "id": "uMTzRaT4iiQo",
        "colab_type": "code",
        "colab": {}
      },
      "source": [
        "import cv2\n",
        "import numpy as np\n",
        "import matplotlib.pyplot as plt\n",
        "import pandas as pd\n",
        "import sys\n",
        "import tensorflow as tf\n",
        "from darkflow.net.build import TFNet"
      ],
      "execution_count": 0,
      "outputs": []
    },
    {
      "cell_type": "markdown",
      "metadata": {
        "id": "eaWm-ZmHKWY4",
        "colab_type": "text"
      },
      "source": [
        "# Load data from dataset json file \n",
        "- Dataset Indian_Number_plates.json is consisting of nested json object. So I am using pandas json_normalize method to make a dataframe as your requirement"
      ]
    },
    {
      "cell_type": "code",
      "metadata": {
        "id": "7v_pYvz6KWY5",
        "colab_type": "code",
        "outputId": "128fb9c4-75bf-49b0-99af-a54363301a84",
        "colab": {
          "base_uri": "https://localhost:8080/",
          "height": 215
        }
      },
      "source": [
        "import json\n",
        "from pandas.io.json import json_normalize\n",
        "\n",
        "data = list()\n",
        "with open('Indian_Number_plates.json') as data_file:\n",
        "    for line in data_file:\n",
        "        data.append(json.loads(line))\n",
        "\n",
        "df = json_normalize(data=data,record_path=['annotation'],meta=['content'])\n",
        "\n",
        "print(df.shape)\n",
        "df.head()"
      ],
      "execution_count": 0,
      "outputs": [
        {
          "output_type": "stream",
          "text": [
            "(245, 6)\n"
          ],
          "name": "stdout"
        },
        {
          "output_type": "execute_result",
          "data": {
            "text/html": [
              "<div>\n",
              "<style scoped>\n",
              "    .dataframe tbody tr th:only-of-type {\n",
              "        vertical-align: middle;\n",
              "    }\n",
              "\n",
              "    .dataframe tbody tr th {\n",
              "        vertical-align: top;\n",
              "    }\n",
              "\n",
              "    .dataframe thead th {\n",
              "        text-align: right;\n",
              "    }\n",
              "</style>\n",
              "<table border=\"1\" class=\"dataframe\">\n",
              "  <thead>\n",
              "    <tr style=\"text-align: right;\">\n",
              "      <th></th>\n",
              "      <th>imageHeight</th>\n",
              "      <th>imageWidth</th>\n",
              "      <th>label</th>\n",
              "      <th>notes</th>\n",
              "      <th>points</th>\n",
              "      <th>content</th>\n",
              "    </tr>\n",
              "  </thead>\n",
              "  <tbody>\n",
              "    <tr>\n",
              "      <th>0</th>\n",
              "      <td>466</td>\n",
              "      <td>806</td>\n",
              "      <td>[number_plate]</td>\n",
              "      <td></td>\n",
              "      <td>[{'x': 0.7220843672456576, 'y': 0.587982832618...</td>\n",
              "      <td>http://com.dataturks.a96-i23.open.s3.amazonaws...</td>\n",
              "    </tr>\n",
              "    <tr>\n",
              "      <th>1</th>\n",
              "      <td>449</td>\n",
              "      <td>494</td>\n",
              "      <td>[number_plate]</td>\n",
              "      <td></td>\n",
              "      <td>[{'x': 0.16194331983805668, 'y': 0.85077951002...</td>\n",
              "      <td>http://com.dataturks.a96-i23.open.s3.amazonaws...</td>\n",
              "    </tr>\n",
              "    <tr>\n",
              "      <th>2</th>\n",
              "      <td>314</td>\n",
              "      <td>500</td>\n",
              "      <td>[number_plate]</td>\n",
              "      <td></td>\n",
              "      <td>[{'x': 0.082, 'y': 0.697452229299363}, {'x': 0...</td>\n",
              "      <td>http://com.dataturks.a96-i23.open.s3.amazonaws...</td>\n",
              "    </tr>\n",
              "    <tr>\n",
              "      <th>3</th>\n",
              "      <td>469</td>\n",
              "      <td>500</td>\n",
              "      <td>[number_plate]</td>\n",
              "      <td></td>\n",
              "      <td>[{'x': 0.434, 'y': 0.6673773987206824}, {'x': ...</td>\n",
              "      <td>http://com.dataturks.a96-i23.open.s3.amazonaws...</td>\n",
              "    </tr>\n",
              "    <tr>\n",
              "      <th>4</th>\n",
              "      <td>563</td>\n",
              "      <td>1001</td>\n",
              "      <td>[number_plate]</td>\n",
              "      <td></td>\n",
              "      <td>[{'x': 0.2087912087912088, 'y': 0.390763765541...</td>\n",
              "      <td>http://com.dataturks.a96-i23.open.s3.amazonaws...</td>\n",
              "    </tr>\n",
              "  </tbody>\n",
              "</table>\n",
              "</div>"
            ],
            "text/plain": [
              "   imageHeight  ...                                            content\n",
              "0          466  ...  http://com.dataturks.a96-i23.open.s3.amazonaws...\n",
              "1          449  ...  http://com.dataturks.a96-i23.open.s3.amazonaws...\n",
              "2          314  ...  http://com.dataturks.a96-i23.open.s3.amazonaws...\n",
              "3          469  ...  http://com.dataturks.a96-i23.open.s3.amazonaws...\n",
              "4          563  ...  http://com.dataturks.a96-i23.open.s3.amazonaws...\n",
              "\n",
              "[5 rows x 6 columns]"
            ]
          },
          "metadata": {
            "tags": []
          },
          "execution_count": 16
        }
      ]
    },
    {
      "cell_type": "markdown",
      "metadata": {
        "id": "eJmh-vS9KWY8",
        "colab_type": "text"
      },
      "source": [
        "# Download images from url and store it into the test_images directory\n",
        "- By using the dataframe 'content' columns url, I am downloading the images from server and store them inside the 'test_images' directory with sequential filename\n",
        "- Filenames are stored inside a list named image_list"
      ]
    },
    {
      "cell_type": "code",
      "metadata": {
        "id": "VuUkC8-0KWY9",
        "colab_type": "code",
        "outputId": "d3ad3d1b-96bb-4fc3-919b-9342e2c6b41b",
        "colab": {
          "base_uri": "https://localhost:8080/",
          "height": 311
        }
      },
      "source": [
        "#install scikit image\n",
        "!pip install scikit-image"
      ],
      "execution_count": 0,
      "outputs": [
        {
          "output_type": "stream",
          "text": [
            "Requirement already satisfied: scikit-image in /usr/local/lib/python3.6/dist-packages (0.15.0)\n",
            "Requirement already satisfied: networkx>=2.0 in /usr/local/lib/python3.6/dist-packages (from scikit-image) (2.3)\n",
            "Requirement already satisfied: PyWavelets>=0.4.0 in /usr/local/lib/python3.6/dist-packages (from scikit-image) (1.0.3)\n",
            "Requirement already satisfied: matplotlib!=3.0.0,>=2.0.0 in /usr/local/lib/python3.6/dist-packages (from scikit-image) (3.0.3)\n",
            "Requirement already satisfied: pillow>=4.3.0 in /usr/local/lib/python3.6/dist-packages (from scikit-image) (4.3.0)\n",
            "Requirement already satisfied: imageio>=2.0.1 in /usr/local/lib/python3.6/dist-packages (from scikit-image) (2.4.1)\n",
            "Requirement already satisfied: scipy>=0.17.0 in /usr/local/lib/python3.6/dist-packages (from scikit-image) (1.3.1)\n",
            "Requirement already satisfied: decorator>=4.3.0 in /usr/local/lib/python3.6/dist-packages (from networkx>=2.0->scikit-image) (4.4.0)\n",
            "Requirement already satisfied: numpy>=1.9.1 in /usr/local/lib/python3.6/dist-packages (from PyWavelets>=0.4.0->scikit-image) (1.16.5)\n",
            "Requirement already satisfied: cycler>=0.10 in /usr/local/lib/python3.6/dist-packages (from matplotlib!=3.0.0,>=2.0.0->scikit-image) (0.10.0)\n",
            "Requirement already satisfied: pyparsing!=2.0.4,!=2.1.2,!=2.1.6,>=2.0.1 in /usr/local/lib/python3.6/dist-packages (from matplotlib!=3.0.0,>=2.0.0->scikit-image) (2.4.2)\n",
            "Requirement already satisfied: kiwisolver>=1.0.1 in /usr/local/lib/python3.6/dist-packages (from matplotlib!=3.0.0,>=2.0.0->scikit-image) (1.1.0)\n",
            "Requirement already satisfied: python-dateutil>=2.1 in /usr/local/lib/python3.6/dist-packages (from matplotlib!=3.0.0,>=2.0.0->scikit-image) (2.5.3)\n",
            "Requirement already satisfied: olefile in /usr/local/lib/python3.6/dist-packages (from pillow>=4.3.0->scikit-image) (0.46)\n",
            "Requirement already satisfied: six in /usr/local/lib/python3.6/dist-packages (from cycler>=0.10->matplotlib!=3.0.0,>=2.0.0->scikit-image) (1.12.0)\n",
            "Requirement already satisfied: setuptools in /usr/local/lib/python3.6/dist-packages (from kiwisolver>=1.0.1->matplotlib!=3.0.0,>=2.0.0->scikit-image) (41.2.0)\n"
          ],
          "name": "stdout"
        }
      ]
    },
    {
      "cell_type": "code",
      "metadata": {
        "id": "7b9VwRrBi9oP",
        "colab_type": "code",
        "outputId": "176c44db-6f3e-4508-dbdb-75f148bab2f5",
        "colab": {
          "base_uri": "https://localhost:8080/",
          "height": 34
        }
      },
      "source": [
        "from skimage import io\n",
        "import json\n",
        "from pandas.io.json import json_normalize\n",
        "import os\n",
        "\n",
        "data = list()\n",
        "with open('Indian_Number_plates.json') as data_file:\n",
        "    for line in data_file:\n",
        "        data.append(json.loads(line))\n",
        "\n",
        "df = json_normalize(data=data,record_path=['annotation'],meta=['content'])\n",
        "\n",
        "print(df.shape)\n",
        "df.head()\n",
        "\n",
        "\n",
        "!mkdir -p train\n",
        "!mkdir -p train/images\n",
        "!mkdir -p train/annotations\n",
        "\n",
        "image_list =list()\n",
        "for i in range(df.shape[0]):\n",
        "    file_name = str(i)+\".jpg\"\n",
        "    file_path = os.getcwd()+\"/train/images/\"+file_name\n",
        "    url =  df['content'][i]\n",
        "    image_list.append(file_name)\n",
        "    img = io.imread(url)\n",
        "    cv2.imwrite(file_path,img)\n",
        "    \n",
        "    width = df['imageWidth'][i]\n",
        "    height = df['imageHeight'][i]\n",
        "    x1 = int(df['points'][i][0]['x']*width)\n",
        "    y1 = int(df['points'][i][0]['y']*height)\n",
        "    x2 = int(df['points'][i][1]['x']*width)\n",
        "    y2 = int(df['points'][i][1]['y']*height)\n",
        "    \n",
        "    \n",
        "    annotation_template = '''<annotation>\n",
        "  <folder>annotations</folder>\n",
        "  <filename>'''+file_name+'''</filename>\n",
        "  <path>'''+file_path+'''</path>\n",
        "  <source>\n",
        "      <database>Unknown</database>\n",
        "  </source>\n",
        "  <size>\n",
        "      <width>'''+str(width)+'''</width>\n",
        "      <height>'''+str(height)+'''</height>\n",
        "      <depth>3</depth>\n",
        "  </size>\n",
        "  <segmented>0</segmented>\n",
        "  <object>\n",
        "      <name>Number Plate</name>\n",
        "      <pose>Unspecified</pose>\n",
        "      <truncated>0</truncated>\n",
        "      <difficult>0</difficult>\n",
        "      <bndbox>\n",
        "          <xmin>'''+str(x1)+'''</xmin>\n",
        "          <ymin>'''+str(y1)+'''</ymin>\n",
        "          <xmax>'''+str(x2)+'''</xmax>\n",
        "          <ymax>'''+str(y2)+'''</ymax>\n",
        "      </bndbox>\n",
        "  </object>\n",
        "</annotation>'''\n",
        "    \n",
        "    f = open('train/annotations/'+str(i)+\".xml\",\"w\")\n",
        "    f.write(annotation_template)\n",
        "    f.close()\n",
        "    "
      ],
      "execution_count": 0,
      "outputs": [
        {
          "output_type": "stream",
          "text": [
            "(245, 6)\n"
          ],
          "name": "stdout"
        }
      ]
    },
    {
      "cell_type": "markdown",
      "metadata": {
        "id": "ARzPZXELKWZC",
        "colab_type": "text"
      },
      "source": [
        "# Add downloaded image list to the dataframe\n",
        "- the image filename list is inserted to the dataframe"
      ]
    },
    {
      "cell_type": "code",
      "metadata": {
        "id": "hO2NISpaKWZC",
        "colab_type": "code",
        "colab": {}
      },
      "source": [
        "df.insert(0,\"imageName\",image_list)\n",
        "df.head()"
      ],
      "execution_count": 0,
      "outputs": []
    },
    {
      "cell_type": "markdown",
      "metadata": {
        "id": "4I5xZZZNkXHq",
        "colab_type": "text"
      },
      "source": [
        "# Training Yolo for Number Plater Detection"
      ]
    },
    {
      "cell_type": "code",
      "metadata": {
        "id": "I2Yce4YiiiTR",
        "colab_type": "code",
        "colab": {}
      },
      "source": [
        "#training\n",
        "config = tf.ConfigProto(log_device_placement=False) \n",
        "config.gpu_options.allow_growth=True\n",
        "\n",
        "with tf.Session(config=config) as sess:\n",
        "  options = {\"model\": \"./cfg/yolov2-custom.cfg\", \n",
        "            \"load\": \"./weights/yolov2.weights\",\n",
        "            \"batch\": 1,\n",
        "            \"epoch\": 500,\n",
        "            \"gpu\": 0.7,\n",
        "            \"train\": True,\n",
        "            \"annotation\": \"./train/annotations/\",\n",
        "            \"dataset\": \"./train/images/\"}\n",
        "  tfnet = TFNet(options)\n",
        "\n",
        "tfnet.train()"
      ],
      "execution_count": 0,
      "outputs": []
    },
    {
      "cell_type": "code",
      "metadata": {
        "id": "nJjsb2kStqs5",
        "colab_type": "code",
        "colab": {}
      },
      "source": [
        "# # or try this to train\n",
        "# !python flow --model cfg/yolov2-custom.cfg --load weights/yolov2.weights --train --annotation train/annotations --dataset train/images --gpu 0.8 --epoch 500"
      ],
      "execution_count": 0,
      "outputs": []
    },
    {
      "cell_type": "code",
      "metadata": {
        "id": "ug8K0JPwuln6",
        "colab_type": "code",
        "colab": {}
      },
      "source": [
        "# # or download my trained weights\n",
        "# !mkdir -p ckpt\n",
        "# !pip install gdown\n",
        "# !cd ckpt && gdown 'https://drive.google.com/uc?id=1pzv0Ydm7X6RnKEw_ybn6KgPBa7Y1DLhp'\n",
        "# !cd ckpt && unzip yolov2-14625.zip\n",
        "# !ls ckpt"
      ],
      "execution_count": 0,
      "outputs": []
    },
    {
      "cell_type": "markdown",
      "metadata": {
        "id": "1IDHwdCBtyqe",
        "colab_type": "text"
      },
      "source": [
        "#Loading trained custom model"
      ]
    },
    {
      "cell_type": "code",
      "metadata": {
        "id": "0pJYK4VjtqwP",
        "colab_type": "code",
        "colab": {}
      },
      "source": [
        "\n",
        "config = tf.ConfigProto(log_device_placement=False)\n",
        "config.gpu_options.allow_growth=True\n",
        "\n",
        "with tf.Session(config=config) as sess:\n",
        "    options ={\n",
        "        'model':'./cfg/yolov2-custom.cfg',\n",
        "        'load':14625,\n",
        "        'threshold':0.6,\n",
        "        'gpu':1.0\n",
        "    }\n",
        "    tfnet = TFNet(options)"
      ],
      "execution_count": 0,
      "outputs": []
    },
    {
      "cell_type": "markdown",
      "metadata": {
        "id": "D_Y3zyFrKWZF",
        "colab_type": "text"
      },
      "source": [
        "# OCR of the license plates\n",
        "- pytesseract library in python is used for ocr detection here.\n",
        "- from dataset we get the normalised quadinate of the license plate\n",
        "- using height and width of the dataset, I calculate the actual points\n",
        "- cropped image is generated using this corner point\n",
        "- then this cropped images is gives to the input of the image_to_string method fo pytesseract library\n",
        "- All the license plate detected result is stored into the license_plates list\n",
        "- This detected result is them added to dataframe corrosponding to the image"
      ]
    },
    {
      "cell_type": "code",
      "metadata": {
        "id": "iFP2v1JcKWZG",
        "colab_type": "code",
        "colab": {}
      },
      "source": [
        "## install tesseract \n",
        "!sudo apt-get install tesseract-ocr\n",
        "!pip install pytesseract"
      ],
      "execution_count": 0,
      "outputs": []
    },
    {
      "cell_type": "code",
      "metadata": {
        "id": "pcQbyKAAuMoo",
        "colab_type": "code",
        "colab": {}
      },
      "source": [
        "import pytesseract\n",
        "\n",
        "def getNumberPlateText(img,results):\n",
        "    number_plates = list()\n",
        "    for result in results:\n",
        "        x1 = result['topleft']['x']\n",
        "        y1 = result['topleft']['y']\n",
        "        x2 = result['bottomright']['x']\n",
        "        y2 = result['bottomright']['y']\n",
        "        cropped_img = img[y1:y2,x1:x2]\n",
        "        number_plate =  pytesseract.image_to_string(cropped_img)\n",
        "        number_plate = \"\".join([i for i in number_plate if i==' ' or i.isalnum()])\n",
        "        number_plates.append(number_plate)\n",
        "    return number_plates"
      ],
      "execution_count": 0,
      "outputs": []
    },
    {
      "cell_type": "code",
      "metadata": {
        "id": "92r5BqoZKWZI",
        "colab_type": "code",
        "colab": {}
      },
      "source": [
        "number_plates_list = list()\n",
        "for i in range(df.shape[0]):    \n",
        "    img = cv2.imread(\"test_images/\"+df['imageName'][i],0)\n",
        "    img = cv2.cvtColor(img,cv2.COLOR_BGR2RGB)\n",
        "    results = tfnet.return_predict(img)\n",
        "    #print(results)\n",
        "    img = showBox(img,results)\n",
        "    number_plates= getNumberPlateText(img,results)\n",
        "    number_plates_list.append(number_plates)\n",
        "    print(number_plates)\n",
        "    #cv2.imshow(\"test custom model\",img)\n",
        "    #cv2.waitKey(50)\n",
        "\n",
        "    \n",
        "df.insert(0,\"number_plate_number\",number_plates_list)\n",
        "df[df['number_plate_number'].str.len() > 7].head()"
      ],
      "execution_count": 0,
      "outputs": []
    },
    {
      "cell_type": "markdown",
      "metadata": {
        "id": "e7QajT-uKWZL",
        "colab_type": "text"
      },
      "source": [
        "# Finally the result is stored into .csv file"
      ]
    },
    {
      "cell_type": "code",
      "metadata": {
        "id": "pTTcRCWDKWZL",
        "colab_type": "code",
        "colab": {}
      },
      "source": [
        "df.to_csv(\"result.csv\")"
      ],
      "execution_count": 0,
      "outputs": []
    },
    {
      "cell_type": "markdown",
      "metadata": {
        "id": "pSgvudPZKWZO",
        "colab_type": "text"
      },
      "source": [
        "# Referances\n",
        "- https://pypi.org/project/pytesseract/\n",
        "- https://docs.opencv.org/3.0-beta/doc/py_tutorials/py_setup/py_intro/py_intro.html\n",
        "- https://pandas.pydata.org/pandas-docs/stable/reference/api/pandas.io.json.json_normalize.html\n",
        "- https://scikit-image.org/docs/dev/api/skimage.io.html\n",
        "- https://pjreddie.com/darknet/yolo/"
      ]
    }
  ]
}